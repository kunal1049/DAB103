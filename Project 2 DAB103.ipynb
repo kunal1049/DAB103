{
 "cells": [
  {
   "cell_type": "code",
   "execution_count": 104,
   "id": "2e1cf9d4",
   "metadata": {},
   "outputs": [],
   "source": [
    "import pandas as pd\n",
    "import matplotlib.pyplot as plt\n",
    "import seaborn as sns\n",
    "import numpy as np"
   ]
  },
  {
   "cell_type": "code",
   "execution_count": 105,
   "id": "698528f5",
   "metadata": {},
   "outputs": [],
   "source": [
    "lab = pd.read_csv('Labour force for immigrants.csv')"
   ]
  },
  {
   "cell_type": "code",
   "execution_count": 106,
   "id": "8cc7355f",
   "metadata": {},
   "outputs": [
    {
     "name": "stdout",
     "output_type": "stream",
     "text": [
      "     Month    Prov  Immig        Char         Sex           Age  \\\n",
      "0  Mar2006  Canada  Total  Population  Both Sexes    15 Years +   \n",
      "1  Mar2006  Canada  Total  Population  Both Sexes         15-24   \n",
      "2  Mar2006  Canada  Total  Population  Both Sexes    25 Years +   \n",
      "3  Mar2006  Canada  Total  Population  Both Sexes         25-64   \n",
      "4  Mar2006  Canada  Total  Population  Both Sexes    55 Years +   \n",
      "\n",
      "  Total, all education levels   No PSE     No degree, certificate or diploma  \\\n",
      "0                     25977.3  13469.6                                6431.8   \n",
      "1                      4330.2   3431.4                                1795.6   \n",
      "2                     21647.2  10038.2                                4636.2   \n",
      "3                     17665.4   7342.3                                2720.5   \n",
      "4                      7562.2   4459.0                                2825.9   \n",
      "\n",
      "      High school graduate     High school graduate, some post-secondary  \\\n",
      "0                   5119.6                                        1918.3   \n",
      "1                    868.5                                         767.3   \n",
      "2                   4251.1                                        1150.9   \n",
      "3                   3589.4                                        1032.4   \n",
      "4                   1363.5                                         269.7   \n",
      "\n",
      "       PSE     Post-secondary certificate or diploma  \\\n",
      "0  12507.7                                    7678.5   \n",
      "1    898.7                                     676.2   \n",
      "2  11609.0                                    7002.3   \n",
      "3  10323.0                                    6143.0   \n",
      "4   3103.2                                    2008.2   \n",
      "\n",
      "         Without high school graduation        With high school graduation  \\\n",
      "0                                 898.6                             6779.9   \n",
      "1                                  29.8                              646.3   \n",
      "2                                 868.8                             6133.6   \n",
      "3                                 611.6                             5531.5   \n",
      "4                                 463.2                             1545.0   \n",
      "\n",
      "      University degree       Bachelor's degree        Above bachelor's degree  \n",
      "0                4829.2                  3335.1                         1494.1  \n",
      "1                 222.6                   197.3                           25.2  \n",
      "2                4606.7                  3137.8                         1468.9  \n",
      "3                4180.0                  2872.9                         1307.1  \n",
      "4                1095.0                   686.8                          408.1  \n"
     ]
    }
   ],
   "source": [
    "print(lab.head())"
   ]
  },
  {
   "cell_type": "code",
   "execution_count": 108,
   "id": "e4e1ceff",
   "metadata": {},
   "outputs": [
    {
     "data": {
      "text/html": [
       "<div>\n",
       "<style scoped>\n",
       "    .dataframe tbody tr th:only-of-type {\n",
       "        vertical-align: middle;\n",
       "    }\n",
       "\n",
       "    .dataframe tbody tr th {\n",
       "        vertical-align: top;\n",
       "    }\n",
       "\n",
       "    .dataframe thead th {\n",
       "        text-align: right;\n",
       "    }\n",
       "</style>\n",
       "<table border=\"1\" class=\"dataframe\">\n",
       "  <thead>\n",
       "    <tr style=\"text-align: right;\">\n",
       "      <th></th>\n",
       "      <th>Month</th>\n",
       "      <th>Prov</th>\n",
       "      <th>Immig</th>\n",
       "      <th>Char</th>\n",
       "      <th>Sex</th>\n",
       "      <th>Age</th>\n",
       "      <th>Total, all education levels</th>\n",
       "      <th>No PSE</th>\n",
       "      <th>No degree, certificate or diploma</th>\n",
       "      <th>High school graduate</th>\n",
       "      <th>High school graduate, some post-secondary</th>\n",
       "      <th>PSE</th>\n",
       "      <th>Post-secondary certificate or diploma</th>\n",
       "      <th>Without high school graduation</th>\n",
       "      <th>With high school graduation</th>\n",
       "      <th>University degree</th>\n",
       "      <th>Bachelor's degree</th>\n",
       "      <th>Above bachelor's degree</th>\n",
       "    </tr>\n",
       "  </thead>\n",
       "  <tbody>\n",
       "    <tr>\n",
       "      <th>0</th>\n",
       "      <td>2006-03-01</td>\n",
       "      <td>Canada</td>\n",
       "      <td>Total</td>\n",
       "      <td>Population</td>\n",
       "      <td>Both Sexes</td>\n",
       "      <td>15 Years +</td>\n",
       "      <td>25977.3</td>\n",
       "      <td>13469.6</td>\n",
       "      <td>6431.8</td>\n",
       "      <td>5119.6</td>\n",
       "      <td>1918.3</td>\n",
       "      <td>12507.7</td>\n",
       "      <td>7678.5</td>\n",
       "      <td>898.6</td>\n",
       "      <td>6779.9</td>\n",
       "      <td>4829.2</td>\n",
       "      <td>3335.1</td>\n",
       "      <td>1494.1</td>\n",
       "    </tr>\n",
       "    <tr>\n",
       "      <th>1</th>\n",
       "      <td>2006-03-01</td>\n",
       "      <td>Canada</td>\n",
       "      <td>Total</td>\n",
       "      <td>Population</td>\n",
       "      <td>Both Sexes</td>\n",
       "      <td>15-24</td>\n",
       "      <td>4330.2</td>\n",
       "      <td>3431.4</td>\n",
       "      <td>1795.6</td>\n",
       "      <td>868.5</td>\n",
       "      <td>767.3</td>\n",
       "      <td>898.7</td>\n",
       "      <td>676.2</td>\n",
       "      <td>29.8</td>\n",
       "      <td>646.3</td>\n",
       "      <td>222.6</td>\n",
       "      <td>197.3</td>\n",
       "      <td>25.2</td>\n",
       "    </tr>\n",
       "    <tr>\n",
       "      <th>2</th>\n",
       "      <td>2006-03-01</td>\n",
       "      <td>Canada</td>\n",
       "      <td>Total</td>\n",
       "      <td>Population</td>\n",
       "      <td>Both Sexes</td>\n",
       "      <td>25 Years +</td>\n",
       "      <td>21647.2</td>\n",
       "      <td>10038.2</td>\n",
       "      <td>4636.2</td>\n",
       "      <td>4251.1</td>\n",
       "      <td>1150.9</td>\n",
       "      <td>11609.0</td>\n",
       "      <td>7002.3</td>\n",
       "      <td>868.8</td>\n",
       "      <td>6133.6</td>\n",
       "      <td>4606.7</td>\n",
       "      <td>3137.8</td>\n",
       "      <td>1468.9</td>\n",
       "    </tr>\n",
       "    <tr>\n",
       "      <th>3</th>\n",
       "      <td>2006-03-01</td>\n",
       "      <td>Canada</td>\n",
       "      <td>Total</td>\n",
       "      <td>Population</td>\n",
       "      <td>Both Sexes</td>\n",
       "      <td>25-64</td>\n",
       "      <td>17665.4</td>\n",
       "      <td>7342.3</td>\n",
       "      <td>2720.5</td>\n",
       "      <td>3589.4</td>\n",
       "      <td>1032.4</td>\n",
       "      <td>10323.0</td>\n",
       "      <td>6143.0</td>\n",
       "      <td>611.6</td>\n",
       "      <td>5531.5</td>\n",
       "      <td>4180.0</td>\n",
       "      <td>2872.9</td>\n",
       "      <td>1307.1</td>\n",
       "    </tr>\n",
       "    <tr>\n",
       "      <th>4</th>\n",
       "      <td>2006-03-01</td>\n",
       "      <td>Canada</td>\n",
       "      <td>Total</td>\n",
       "      <td>Population</td>\n",
       "      <td>Both Sexes</td>\n",
       "      <td>55 Years +</td>\n",
       "      <td>7562.2</td>\n",
       "      <td>4459.0</td>\n",
       "      <td>2825.9</td>\n",
       "      <td>1363.5</td>\n",
       "      <td>269.7</td>\n",
       "      <td>3103.2</td>\n",
       "      <td>2008.2</td>\n",
       "      <td>463.2</td>\n",
       "      <td>1545.0</td>\n",
       "      <td>1095.0</td>\n",
       "      <td>686.8</td>\n",
       "      <td>408.1</td>\n",
       "    </tr>\n",
       "    <tr>\n",
       "      <th>...</th>\n",
       "      <td>...</td>\n",
       "      <td>...</td>\n",
       "      <td>...</td>\n",
       "      <td>...</td>\n",
       "      <td>...</td>\n",
       "      <td>...</td>\n",
       "      <td>...</td>\n",
       "      <td>...</td>\n",
       "      <td>...</td>\n",
       "      <td>...</td>\n",
       "      <td>...</td>\n",
       "      <td>...</td>\n",
       "      <td>...</td>\n",
       "      <td>...</td>\n",
       "      <td>...</td>\n",
       "      <td>...</td>\n",
       "      <td>...</td>\n",
       "      <td>...</td>\n",
       "    </tr>\n",
       "    <tr>\n",
       "      <th>2395</th>\n",
       "      <td>2006-03-01</td>\n",
       "      <td>Ontario</td>\n",
       "      <td>Born in Canada</td>\n",
       "      <td>Employment rate</td>\n",
       "      <td>Female</td>\n",
       "      <td>15 Years +</td>\n",
       "      <td>60.9</td>\n",
       "      <td>48.8</td>\n",
       "      <td>32.1</td>\n",
       "      <td>61.2</td>\n",
       "      <td>64.1</td>\n",
       "      <td>73.8</td>\n",
       "      <td>71.5</td>\n",
       "      <td>44.9</td>\n",
       "      <td>74.0</td>\n",
       "      <td>77.6</td>\n",
       "      <td>76.3</td>\n",
       "      <td>81.1</td>\n",
       "    </tr>\n",
       "    <tr>\n",
       "      <th>2396</th>\n",
       "      <td>2006-03-01</td>\n",
       "      <td>Ontario</td>\n",
       "      <td>Born in Canada</td>\n",
       "      <td>Employment rate</td>\n",
       "      <td>Female</td>\n",
       "      <td>15-24</td>\n",
       "      <td>56.2</td>\n",
       "      <td>50.7</td>\n",
       "      <td>41.5</td>\n",
       "      <td>62.9</td>\n",
       "      <td>60.2</td>\n",
       "      <td>76.8</td>\n",
       "      <td>80.6</td>\n",
       "      <td>0.0</td>\n",
       "      <td>81.9</td>\n",
       "      <td>67.7</td>\n",
       "      <td>69.2</td>\n",
       "      <td>60.9</td>\n",
       "    </tr>\n",
       "    <tr>\n",
       "      <th>2397</th>\n",
       "      <td>2006-03-01</td>\n",
       "      <td>Ontario</td>\n",
       "      <td>Born in Canada</td>\n",
       "      <td>Employment rate</td>\n",
       "      <td>Female</td>\n",
       "      <td>25 Years +</td>\n",
       "      <td>62.0</td>\n",
       "      <td>48.0</td>\n",
       "      <td>26.5</td>\n",
       "      <td>60.9</td>\n",
       "      <td>68.0</td>\n",
       "      <td>73.5</td>\n",
       "      <td>70.5</td>\n",
       "      <td>45.1</td>\n",
       "      <td>73.1</td>\n",
       "      <td>78.3</td>\n",
       "      <td>76.9</td>\n",
       "      <td>82.0</td>\n",
       "    </tr>\n",
       "    <tr>\n",
       "      <th>2398</th>\n",
       "      <td>2006-03-01</td>\n",
       "      <td>Ontario</td>\n",
       "      <td>Born in Canada</td>\n",
       "      <td>Employment rate</td>\n",
       "      <td>Female</td>\n",
       "      <td>25-64</td>\n",
       "      <td>74.5</td>\n",
       "      <td>64.8</td>\n",
       "      <td>46.6</td>\n",
       "      <td>71.7</td>\n",
       "      <td>74.9</td>\n",
       "      <td>80.9</td>\n",
       "      <td>79.6</td>\n",
       "      <td>62.3</td>\n",
       "      <td>80.9</td>\n",
       "      <td>82.9</td>\n",
       "      <td>82.0</td>\n",
       "      <td>85.0</td>\n",
       "    </tr>\n",
       "    <tr>\n",
       "      <th>2399</th>\n",
       "      <td>2006-03-01</td>\n",
       "      <td>Ontario</td>\n",
       "      <td>Born in Canada</td>\n",
       "      <td>Employment rate</td>\n",
       "      <td>Female</td>\n",
       "      <td>55 Years +</td>\n",
       "      <td>25.4</td>\n",
       "      <td>18.5</td>\n",
       "      <td>11.5</td>\n",
       "      <td>29.1</td>\n",
       "      <td>22.3</td>\n",
       "      <td>36.0</td>\n",
       "      <td>33.7</td>\n",
       "      <td>21.5</td>\n",
       "      <td>36.6</td>\n",
       "      <td>41.3</td>\n",
       "      <td>36.8</td>\n",
       "      <td>52.1</td>\n",
       "    </tr>\n",
       "  </tbody>\n",
       "</table>\n",
       "<p>2400 rows × 18 columns</p>\n",
       "</div>"
      ],
      "text/plain": [
       "          Month     Prov             Immig             Char         Sex  \\\n",
       "0    2006-03-01   Canada             Total       Population  Both Sexes   \n",
       "1    2006-03-01   Canada             Total       Population  Both Sexes   \n",
       "2    2006-03-01   Canada             Total       Population  Both Sexes   \n",
       "3    2006-03-01   Canada             Total       Population  Both Sexes   \n",
       "4    2006-03-01   Canada             Total       Population  Both Sexes   \n",
       "...         ...      ...               ...              ...         ...   \n",
       "2395 2006-03-01  Ontario    Born in Canada  Employment rate      Female   \n",
       "2396 2006-03-01  Ontario    Born in Canada  Employment rate      Female   \n",
       "2397 2006-03-01  Ontario    Born in Canada  Employment rate      Female   \n",
       "2398 2006-03-01  Ontario    Born in Canada  Employment rate      Female   \n",
       "2399 2006-03-01  Ontario    Born in Canada  Employment rate      Female   \n",
       "\n",
       "               Age Total, all education levels   No PSE  \\\n",
       "0       15 Years +                     25977.3  13469.6   \n",
       "1            15-24                      4330.2   3431.4   \n",
       "2       25 Years +                     21647.2  10038.2   \n",
       "3            25-64                     17665.4   7342.3   \n",
       "4       55 Years +                      7562.2   4459.0   \n",
       "...            ...                         ...      ...   \n",
       "2395    15 Years +                        60.9     48.8   \n",
       "2396         15-24                        56.2     50.7   \n",
       "2397    25 Years +                        62.0     48.0   \n",
       "2398         25-64                        74.5     64.8   \n",
       "2399    55 Years +                        25.4     18.5   \n",
       "\n",
       "         No degree, certificate or diploma     High school graduate  \\\n",
       "0                                   6431.8                   5119.6   \n",
       "1                                   1795.6                    868.5   \n",
       "2                                   4636.2                   4251.1   \n",
       "3                                   2720.5                   3589.4   \n",
       "4                                   2825.9                   1363.5   \n",
       "...                                    ...                      ...   \n",
       "2395                                  32.1                     61.2   \n",
       "2396                                  41.5                     62.9   \n",
       "2397                                  26.5                     60.9   \n",
       "2398                                  46.6                     71.7   \n",
       "2399                                  11.5                     29.1   \n",
       "\n",
       "         High school graduate, some post-secondary      PSE  \\\n",
       "0                                           1918.3  12507.7   \n",
       "1                                            767.3    898.7   \n",
       "2                                           1150.9  11609.0   \n",
       "3                                           1032.4  10323.0   \n",
       "4                                            269.7   3103.2   \n",
       "...                                            ...      ...   \n",
       "2395                                          64.1     73.8   \n",
       "2396                                          60.2     76.8   \n",
       "2397                                          68.0     73.5   \n",
       "2398                                          74.9     80.9   \n",
       "2399                                          22.3     36.0   \n",
       "\n",
       "         Post-secondary certificate or diploma  \\\n",
       "0                                       7678.5   \n",
       "1                                        676.2   \n",
       "2                                       7002.3   \n",
       "3                                       6143.0   \n",
       "4                                       2008.2   \n",
       "...                                        ...   \n",
       "2395                                      71.5   \n",
       "2396                                      80.6   \n",
       "2397                                      70.5   \n",
       "2398                                      79.6   \n",
       "2399                                      33.7   \n",
       "\n",
       "            Without high school graduation        With high school graduation  \\\n",
       "0                                    898.6                             6779.9   \n",
       "1                                     29.8                              646.3   \n",
       "2                                    868.8                             6133.6   \n",
       "3                                    611.6                             5531.5   \n",
       "4                                    463.2                             1545.0   \n",
       "...                                    ...                                ...   \n",
       "2395                                  44.9                               74.0   \n",
       "2396                                   0.0                               81.9   \n",
       "2397                                  45.1                               73.1   \n",
       "2398                                  62.3                               80.9   \n",
       "2399                                  21.5                               36.6   \n",
       "\n",
       "         University degree       Bachelor's degree  \\\n",
       "0                   4829.2                  3335.1   \n",
       "1                    222.6                   197.3   \n",
       "2                   4606.7                  3137.8   \n",
       "3                   4180.0                  2872.9   \n",
       "4                   1095.0                   686.8   \n",
       "...                    ...                     ...   \n",
       "2395                  77.6                    76.3   \n",
       "2396                  67.7                    69.2   \n",
       "2397                  78.3                    76.9   \n",
       "2398                  82.9                    82.0   \n",
       "2399                  41.3                    36.8   \n",
       "\n",
       "            Above bachelor's degree  \n",
       "0                            1494.1  \n",
       "1                              25.2  \n",
       "2                            1468.9  \n",
       "3                            1307.1  \n",
       "4                             408.1  \n",
       "...                             ...  \n",
       "2395                           81.1  \n",
       "2396                           60.9  \n",
       "2397                           82.0  \n",
       "2398                           85.0  \n",
       "2399                           52.1  \n",
       "\n",
       "[2400 rows x 18 columns]"
      ]
     },
     "execution_count": 108,
     "metadata": {},
     "output_type": "execute_result"
    }
   ],
   "source": [
    "lab['Month'] = pd.to_datetime(lab['Month'])\n",
    "start_date = '03-01-2006'\n",
    "end_date = '04-01-2006'\n",
    "mask = (lab['Month'] >= start_date) & (lab['Month'] < end_date)\n",
    "lab = lab.loc[mask]\n",
    "lab"
   ]
  },
  {
   "cell_type": "code",
   "execution_count": 109,
   "id": "6213aaba",
   "metadata": {},
   "outputs": [
    {
     "name": "stdout",
     "output_type": "stream",
     "text": [
      "(2400, 18)\n"
     ]
    }
   ],
   "source": [
    "print(lab.shape)"
   ]
  },
  {
   "cell_type": "code",
   "execution_count": 110,
   "id": "1c734e26",
   "metadata": {},
   "outputs": [
    {
     "name": "stdout",
     "output_type": "stream",
     "text": [
      "Index(['Month', 'Prov', 'Immig', 'Char', 'Sex', 'Age',\n",
      "       'Total, all education levels', '  No PSE',\n",
      "       '    No degree, certificate or diploma', '    High school graduate',\n",
      "       '    High school graduate, some post-secondary', '  PSE',\n",
      "       '    Post-secondary certificate or diploma',\n",
      "       '       Without high school graduation',\n",
      "       '       With high school graduation', '    University degree',\n",
      "       '      Bachelor's degree', '       Above bachelor's degree'],\n",
      "      dtype='object')\n"
     ]
    }
   ],
   "source": [
    "print(lab.columns)"
   ]
  },
  {
   "cell_type": "code",
   "execution_count": 111,
   "id": "12b598b2",
   "metadata": {},
   "outputs": [
    {
     "name": "stdout",
     "output_type": "stream",
     "text": [
      "                      Month    Prov             Immig  \\\n",
      "count                  2400    2400              2400   \n",
      "unique                    1       2                 8   \n",
      "top     2006-03-01 00:00:00  Canada    Born in Canada   \n",
      "freq                   2400    1200               300   \n",
      "first   2006-03-01 00:00:00     NaN               NaN   \n",
      "last    2006-03-01 00:00:00     NaN               NaN   \n",
      "\n",
      "                               Char       Sex      Age  \\\n",
      "count                          2400      2400     2400   \n",
      "unique                           10         3        5   \n",
      "top            Full-time employment    Female    25-64   \n",
      "freq                            240       800      480   \n",
      "first                           NaN       NaN      NaN   \n",
      "last                            NaN       NaN      NaN   \n",
      "\n",
      "       Total, all education levels   No PSE  \\\n",
      "count                         2400     2400   \n",
      "unique                        1653     1457   \n",
      "top                            0.0      0.0   \n",
      "freq                            42       56   \n",
      "first                          NaN      NaN   \n",
      "last                           NaN      NaN   \n",
      "\n",
      "           No degree, certificate or diploma     High school graduate  \\\n",
      "count                                   2400                     2400   \n",
      "unique                                  1161                     1248   \n",
      "top                                      0.0                      0.0   \n",
      "freq                                     144                      170   \n",
      "first                                    NaN                      NaN   \n",
      "last                                     NaN                      NaN   \n",
      "\n",
      "           High school graduate, some post-secondary   PSE  \\\n",
      "count                                           2400  2400   \n",
      "unique                                           941  1450   \n",
      "top                                              0.0   0.0   \n",
      "freq                                             350    91   \n",
      "first                                            NaN   NaN   \n",
      "last                                             NaN   NaN   \n",
      "\n",
      "           Post-secondary certificate or diploma  \\\n",
      "count                                       2400   \n",
      "unique                                      1264   \n",
      "top                                          0.0   \n",
      "freq                                         125   \n",
      "first                                        NaN   \n",
      "last                                         NaN   \n",
      "\n",
      "              Without high school graduation  \\\n",
      "count                                   2400   \n",
      "unique                                   684   \n",
      "top                                      0.0   \n",
      "freq                                     581   \n",
      "first                                    NaN   \n",
      "last                                     NaN   \n",
      "\n",
      "              With high school graduation     University degree  \\\n",
      "count                                2400                  2400   \n",
      "unique                               1250                  1243   \n",
      "top                                   0.0                   0.0   \n",
      "freq                                  130                   190   \n",
      "first                                 NaN                   NaN   \n",
      "last                                  NaN                   NaN   \n",
      "\n",
      "             Bachelor's degree        Above bachelor's degree  \n",
      "count                     2400                           2400  \n",
      "unique                    1145                            955  \n",
      "top                        0.0                            0.0  \n",
      "freq                       235                            379  \n",
      "first                      NaN                            NaN  \n",
      "last                       NaN                            NaN  \n"
     ]
    },
    {
     "name": "stderr",
     "output_type": "stream",
     "text": [
      "<ipython-input-111-8d12021ca3ca>:1: FutureWarning: Treating datetime data as categorical rather than numeric in `.describe` is deprecated and will be removed in a future version of pandas. Specify `datetime_is_numeric=True` to silence this warning and adopt the future behavior now.\n",
      "  print(lab.describe())\n"
     ]
    }
   ],
   "source": [
    "print(lab.describe())"
   ]
  },
  {
   "cell_type": "code",
   "execution_count": 112,
   "id": "51032123",
   "metadata": {},
   "outputs": [
    {
     "name": "stdout",
     "output_type": "stream",
     "text": [
      "<class 'pandas.core.frame.DataFrame'>\n",
      "Int64Index: 2400 entries, 0 to 2399\n",
      "Data columns (total 18 columns):\n",
      " #   Column                                         Non-Null Count  Dtype         \n",
      "---  ------                                         --------------  -----         \n",
      " 0   Month                                          2400 non-null   datetime64[ns]\n",
      " 1   Prov                                           2400 non-null   object        \n",
      " 2   Immig                                          2400 non-null   object        \n",
      " 3   Char                                           2400 non-null   object        \n",
      " 4   Sex                                            2400 non-null   object        \n",
      " 5   Age                                            2400 non-null   object        \n",
      " 6   Total, all education levels                    2400 non-null   object        \n",
      " 7     No PSE                                       2400 non-null   object        \n",
      " 8       No degree, certificate or diploma          2400 non-null   object        \n",
      " 9       High school graduate                       2400 non-null   object        \n",
      " 10      High school graduate, some post-secondary  2400 non-null   object        \n",
      " 11    PSE                                          2400 non-null   object        \n",
      " 12      Post-secondary certificate or diploma      2400 non-null   object        \n",
      " 13         Without high school graduation          2400 non-null   object        \n",
      " 14         With high school graduation             2400 non-null   object        \n",
      " 15      University degree                          2400 non-null   object        \n",
      " 16        Bachelor's degree                        2400 non-null   object        \n",
      " 17         Above bachelor's degree                 2400 non-null   object        \n",
      "dtypes: datetime64[ns](1), object(17)\n",
      "memory usage: 356.2+ KB\n"
     ]
    }
   ],
   "source": [
    "lab.info()"
   ]
  },
  {
   "cell_type": "code",
   "execution_count": 113,
   "id": "caa29dd9",
   "metadata": {},
   "outputs": [],
   "source": [
    "lab.rename(columns={'Prov': 'Regions'}, inplace=True)\n",
    "lab.rename(columns={lab.columns[16]: '      Bachelors degree',lab.columns[17]: '      Above bachelors degree'}, inplace=True)"
   ]
  },
  {
   "cell_type": "code",
   "execution_count": 114,
   "id": "a2411d01",
   "metadata": {},
   "outputs": [],
   "source": [
    "lab['    High school graduate, some post-secondary'].replace('-', np.nan, inplace=True)\n",
    "lab['    No degree, certificate or diploma'].replace('-', np.nan, inplace=True)\n",
    "lab['    High school graduate'].replace('-', np.nan, inplace=True)\n",
    "lab['    Post-secondary certificate or diploma'].replace('-', np.nan, inplace=True)\n",
    "lab['       Without high school graduation'].replace('-', np.nan, inplace=True)\n",
    "lab['       With high school graduation'].replace('-', np.nan, inplace=True)\n",
    "lab['    University degree'].replace('-', np.nan, inplace=True)\n",
    "lab['  PSE'].replace('-',np.nan, inplace=True)\n",
    "lab['  No PSE'].replace('-',np.nan, inplace=True)\n",
    "lab['Total, all education levels'].replace('-',np.nan, inplace=True)\n",
    "lab['      Bachelors degree'].replace('-', np.nan, inplace=True)\n",
    "lab['      Above bachelors degree'].replace('-', np.nan, inplace=True)"
   ]
  },
  {
   "cell_type": "code",
   "execution_count": 115,
   "id": "50af2dd2",
   "metadata": {},
   "outputs": [
    {
     "name": "stdout",
     "output_type": "stream",
     "text": [
      "<class 'pandas.core.frame.DataFrame'>\n",
      "Int64Index: 2400 entries, 0 to 2399\n",
      "Data columns (total 18 columns):\n",
      " #   Column                                         Non-Null Count  Dtype         \n",
      "---  ------                                         --------------  -----         \n",
      " 0   Month                                          2400 non-null   datetime64[ns]\n",
      " 1   Regions                                        2400 non-null   object        \n",
      " 2   Immig                                          2400 non-null   object        \n",
      " 3   Char                                           2400 non-null   object        \n",
      " 4   Sex                                            2400 non-null   object        \n",
      " 5   Age                                            2400 non-null   object        \n",
      " 6   Total, all education levels                    2400 non-null   object        \n",
      " 7     No PSE                                       2389 non-null   object        \n",
      " 8       No degree, certificate or diploma          2373 non-null   object        \n",
      " 9       High school graduate                       2377 non-null   object        \n",
      " 10      High school graduate, some post-secondary  2317 non-null   object        \n",
      " 11    PSE                                          2388 non-null   object        \n",
      " 12      Post-secondary certificate or diploma      2355 non-null   object        \n",
      " 13         Without high school graduation          1999 non-null   object        \n",
      " 14         With high school graduation             2355 non-null   object        \n",
      " 15      University degree                          2359 non-null   object        \n",
      " 16        Bachelors degree                         2341 non-null   object        \n",
      " 17        Above bachelors degree                   2247 non-null   object        \n",
      "dtypes: datetime64[ns](1), object(17)\n",
      "memory usage: 356.2+ KB\n"
     ]
    }
   ],
   "source": [
    "lab.info()"
   ]
  },
  {
   "cell_type": "code",
   "execution_count": 116,
   "id": "241aa75f",
   "metadata": {},
   "outputs": [],
   "source": [
    "lab=lab.astype({'Total, all education levels':float,'  No PSE':float,'    High school graduate':float,'  PSE':float,'    No degree, certificate or diploma':float,'    High school graduate, some post-secondary':float,'    Post-secondary certificate or diploma':float,'       Without high school graduation':float,'       With high school graduation':float,'    University degree':float,'      Bachelors degree':float,'      Above bachelors degree':float})"
   ]
  },
  {
   "cell_type": "code",
   "execution_count": 117,
   "id": "6d62c33a",
   "metadata": {},
   "outputs": [
    {
     "name": "stdout",
     "output_type": "stream",
     "text": [
      "<class 'pandas.core.frame.DataFrame'>\n",
      "Int64Index: 2400 entries, 0 to 2399\n",
      "Data columns (total 18 columns):\n",
      " #   Column                                         Non-Null Count  Dtype         \n",
      "---  ------                                         --------------  -----         \n",
      " 0   Month                                          2400 non-null   datetime64[ns]\n",
      " 1   Regions                                        2400 non-null   object        \n",
      " 2   Immig                                          2400 non-null   object        \n",
      " 3   Char                                           2400 non-null   object        \n",
      " 4   Sex                                            2400 non-null   object        \n",
      " 5   Age                                            2400 non-null   object        \n",
      " 6   Total, all education levels                    2400 non-null   float64       \n",
      " 7     No PSE                                       2389 non-null   float64       \n",
      " 8       No degree, certificate or diploma          2373 non-null   float64       \n",
      " 9       High school graduate                       2377 non-null   float64       \n",
      " 10      High school graduate, some post-secondary  2317 non-null   float64       \n",
      " 11    PSE                                          2388 non-null   float64       \n",
      " 12      Post-secondary certificate or diploma      2355 non-null   float64       \n",
      " 13         Without high school graduation          1999 non-null   float64       \n",
      " 14         With high school graduation             2355 non-null   float64       \n",
      " 15      University degree                          2359 non-null   float64       \n",
      " 16        Bachelors degree                         2341 non-null   float64       \n",
      " 17        Above bachelors degree                   2247 non-null   float64       \n",
      "dtypes: datetime64[ns](1), float64(12), object(5)\n",
      "memory usage: 356.2+ KB\n"
     ]
    }
   ],
   "source": [
    "lab.info()"
   ]
  },
  {
   "cell_type": "code",
   "execution_count": 118,
   "id": "05f1b0aa",
   "metadata": {},
   "outputs": [],
   "source": [
    "lab['  PSE']=lab['  PSE']*10\n",
    "lab['  No PSE']=lab['  No PSE']*10\n",
    "lab['Total, all education levels']=lab['Total, all education levels']*10\n",
    "lab['    No degree, certificate or diploma']=lab['    No degree, certificate or diploma']*10\n",
    "lab['    High school graduate']=lab['    High school graduate']*10\n",
    "lab['    High school graduate, some post-secondary']=lab['    High school graduate, some post-secondary']*10\n",
    "lab['    Post-secondary certificate or diploma']=lab['    Post-secondary certificate or diploma']*10\n",
    "lab['       Without high school graduation']=lab['       Without high school graduation']*10\n",
    "lab['       With high school graduation']=lab['       With high school graduation']*10\n",
    "lab['    University degree']=lab['    University degree']*10\n",
    "lab['      Bachelors degree']=lab['      Bachelors degree']*10\n",
    "lab['      Above bachelors degree']=lab['      Above bachelors degree']*10"
   ]
  },
  {
   "cell_type": "code",
   "execution_count": 119,
   "id": "c8a1586d",
   "metadata": {},
   "outputs": [
    {
     "name": "stdout",
     "output_type": "stream",
     "text": [
      "          Month  Regions             Immig             Char         Sex  \\\n",
      "0    2006-03-01   Canada             Total       Population  Both Sexes   \n",
      "1    2006-03-01   Canada             Total       Population  Both Sexes   \n",
      "2    2006-03-01   Canada             Total       Population  Both Sexes   \n",
      "3    2006-03-01   Canada             Total       Population  Both Sexes   \n",
      "4    2006-03-01   Canada             Total       Population  Both Sexes   \n",
      "...         ...      ...               ...              ...         ...   \n",
      "2395 2006-03-01  Ontario    Born in Canada  Employment rate      Female   \n",
      "2396 2006-03-01  Ontario    Born in Canada  Employment rate      Female   \n",
      "2397 2006-03-01  Ontario    Born in Canada  Employment rate      Female   \n",
      "2398 2006-03-01  Ontario    Born in Canada  Employment rate      Female   \n",
      "2399 2006-03-01  Ontario    Born in Canada  Employment rate      Female   \n",
      "\n",
      "               Age  Total, all education levels    No PSE  \\\n",
      "0       15 Years +                     259773.0  134696.0   \n",
      "1            15-24                      43302.0   34314.0   \n",
      "2       25 Years +                     216472.0  100382.0   \n",
      "3            25-64                     176654.0   73423.0   \n",
      "4       55 Years +                      75622.0   44590.0   \n",
      "...            ...                          ...       ...   \n",
      "2395    15 Years +                        609.0     488.0   \n",
      "2396         15-24                        562.0     507.0   \n",
      "2397    25 Years +                        620.0     480.0   \n",
      "2398         25-64                        745.0     648.0   \n",
      "2399    55 Years +                        254.0     185.0   \n",
      "\n",
      "          No degree, certificate or diploma      High school graduate  \\\n",
      "0                                   64318.0                   51196.0   \n",
      "1                                   17956.0                    8685.0   \n",
      "2                                   46362.0                   42511.0   \n",
      "3                                   27205.0                   35894.0   \n",
      "4                                   28259.0                   13635.0   \n",
      "...                                     ...                       ...   \n",
      "2395                                  321.0                     612.0   \n",
      "2396                                  415.0                     629.0   \n",
      "2397                                  265.0                     609.0   \n",
      "2398                                  466.0                     717.0   \n",
      "2399                                  115.0                     291.0   \n",
      "\n",
      "          High school graduate, some post-secondary       PSE  \\\n",
      "0                                           19183.0  125077.0   \n",
      "1                                            7673.0    8987.0   \n",
      "2                                           11509.0  116090.0   \n",
      "3                                           10324.0  103230.0   \n",
      "4                                            2697.0   31032.0   \n",
      "...                                             ...       ...   \n",
      "2395                                          641.0     738.0   \n",
      "2396                                          602.0     768.0   \n",
      "2397                                          680.0     735.0   \n",
      "2398                                          749.0     809.0   \n",
      "2399                                          223.0     360.0   \n",
      "\n",
      "          Post-secondary certificate or diploma  \\\n",
      "0                                       76785.0   \n",
      "1                                        6762.0   \n",
      "2                                       70023.0   \n",
      "3                                       61430.0   \n",
      "4                                       20082.0   \n",
      "...                                         ...   \n",
      "2395                                      715.0   \n",
      "2396                                      806.0   \n",
      "2397                                      705.0   \n",
      "2398                                      796.0   \n",
      "2399                                      337.0   \n",
      "\n",
      "             Without high school graduation  \\\n",
      "0                                    8986.0   \n",
      "1                                     298.0   \n",
      "2                                    8688.0   \n",
      "3                                    6116.0   \n",
      "4                                    4632.0   \n",
      "...                                     ...   \n",
      "2395                                  449.0   \n",
      "2396                                    0.0   \n",
      "2397                                  451.0   \n",
      "2398                                  623.0   \n",
      "2399                                  215.0   \n",
      "\n",
      "             With high school graduation      University degree  \\\n",
      "0                                67799.0                48292.0   \n",
      "1                                 6463.0                 2226.0   \n",
      "2                                61336.0                46067.0   \n",
      "3                                55315.0                41800.0   \n",
      "4                                15450.0                10950.0   \n",
      "...                                  ...                    ...   \n",
      "2395                               740.0                  776.0   \n",
      "2396                               819.0                  677.0   \n",
      "2397                               731.0                  783.0   \n",
      "2398                               809.0                  829.0   \n",
      "2399                               366.0                  413.0   \n",
      "\n",
      "            Bachelors degree        Above bachelors degree  \n",
      "0                    33351.0                       14941.0  \n",
      "1                     1973.0                         252.0  \n",
      "2                    31378.0                       14689.0  \n",
      "3                    28729.0                       13071.0  \n",
      "4                     6868.0                        4081.0  \n",
      "...                      ...                           ...  \n",
      "2395                   763.0                         811.0  \n",
      "2396                   692.0                         609.0  \n",
      "2397                   769.0                         820.0  \n",
      "2398                   820.0                         850.0  \n",
      "2399                   368.0                         521.0  \n",
      "\n",
      "[2400 rows x 18 columns]\n"
     ]
    }
   ],
   "source": [
    "print(lab)"
   ]
  },
  {
   "cell_type": "code",
   "execution_count": 141,
   "id": "bc90303e",
   "metadata": {},
   "outputs": [
    {
     "data": {
      "text/plain": [
       "Text(0, 0.5, 'Employment rate')"
      ]
     },
     "execution_count": 141,
     "metadata": {},
     "output_type": "execute_result"
    },
    {
     "data": {
      "image/png": "[encoded data removed]",
      "text/plain": [
       "<Figure size 432x288 with 1 Axes>"
      ]
     },
     "metadata": {
      "needs_background": "light"
     },
     "output_type": "display_data"
    }
   ],
   "source": [
    "q11=lab[['Immig','Char','Sex','    No degree, certificate or diploma','      Bachelors degree',]]\n",
    "i=[\"Employment rate\"]\n",
    "j=[\"Both Sexes\"]\n",
    "q11=q11[q11.Char.isin(i) & q11.Sex.isin(j)]\n",
    "p1=q11.plot(kind='bar',title='Does education affect employability')\n",
    "plt.xlabel(\"Individuals status\")\n",
    "plt.ylabel(\"Employment rate\")"
   ]
  },
  {
   "cell_type": "code",
   "execution_count": 142,
   "id": "fa6adcba",
   "metadata": {},
   "outputs": [
    {
     "data": {
      "text/plain": [
       "Text(0, 0.5, 'Unemployment rate')"
      ]
     },
     "execution_count": 142,
     "metadata": {},
     "output_type": "execute_result"
    },
    {
     "data": {
      "image/png": "[encoded data removed]",
      "text/plain": [
       "<Figure size 432x288 with 1 Axes>"
      ]
     },
     "metadata": {
      "needs_background": "light"
     },
     "output_type": "display_data"
    }
   ],
   "source": [
    "q12=lab[['Char','Sex','    No degree, certificate or diploma','    University degree',]]\n",
    "c=[\"Unemployment rate\"]\n",
    "d=[\"Both Sexes\"]\n",
    "q12=q12[q12.Char.isin(c) & q12.Sex.isin(d)]\n",
    "p2=q12.plot(kind='bar',title='Does education affect Unemployability')\n",
    "plt.xlabel(\"Individuals status\")\n",
    "plt.ylabel(\"Unemployment rate\")"
   ]
  },
  {
   "cell_type": "code",
   "execution_count": 120,
   "id": "cf461ea7",
   "metadata": {},
   "outputs": [],
   "source": [
    "Q2a= lab\n",
    "li1=['          Established immigrants, 10+ years']\n",
    "Q2a = Q2a[Q2a.Immig.isin(li1)]\n",
    "li2=['Employment rate','Unemployment rate']\n",
    "Q2a = Q2a[Q2a.Char.isin(li2)]\n",
    "Q2b= lab\n",
    "li3=['  Born in Canada']\n",
    "Q2b = Q2b[Q2b.Immig.isin(li3)]\n",
    "Q2b = Q2b[Q2b.Char.isin(li2)]"
   ]
  },
  {
   "cell_type": "code",
   "execution_count": 121,
   "id": "0469cfca",
   "metadata": {},
   "outputs": [
    {
     "name": "stdout",
     "output_type": "stream",
     "text": [
      "                   Total, all education levels\n",
      "Char                                          \n",
      "Employment rate                        16152.0\n",
      "Unemployment rate                       2037.0\n",
      "                   Total, all education levels\n",
      "Char                                          \n",
      "Employment rate                        17562.0\n",
      "Unemployment rate                       2086.0\n"
     ]
    }
   ],
   "source": [
    "a=Q2a[[\"Immig\",\"Char\",\"Total, all education levels\"]].groupby(\"Char\").sum()\n",
    "b=Q2b[[\"Immig\",\"Char\",\"Total, all education levels\"]].groupby(\"Char\").sum()\n",
    "print(a)\n",
    "print(b)"
   ]
  },
  {
   "cell_type": "code",
   "execution_count": 122,
   "id": "faffeac7",
   "metadata": {},
   "outputs": [
    {
     "data": {
      "text/plain": [
       "<function matplotlib.pyplot.show(close=None, block=None)>"
      ]
     },
     "execution_count": 122,
     "metadata": {},
     "output_type": "execute_result"
    },
    {
     "data": {
      "image/png": "[encoded data removed]",
      "text/plain": [
       "<Figure size 432x288 with 1 Axes>"
      ]
     },
     "metadata": {
      "needs_background": "light"
     },
     "output_type": "display_data"
    }
   ],
   "source": [
    "p1 = plt.bar(b.index.values,b['Total, all education levels']) # for canada\n",
    "p2 = plt.bar(a.index.values,a['Total, all education levels'],alpha=0.80) # for immigrants\n",
    "plt.legend((p1[0],p2[0]),('Canada','Immigrants'))\n",
    "plt.title(\"Exmployment rate for Canadian citizens and immigrants in Canada\")\n",
    "plt.xlabel(\"Employement Status\")\n",
    "plt.ylabel(\"No of people\")\n",
    "plt.show"
   ]
  },
  {
   "cell_type": "code",
   "execution_count": 143,
   "id": "28cd5e51",
   "metadata": {},
   "outputs": [
    {
     "name": "stdout",
     "output_type": "stream",
     "text": [
      "                Char         Sex  \\\n",
      "435  Employment rate  Both Sexes   \n",
      "436  Employment rate  Both Sexes   \n",
      "437  Employment rate  Both Sexes   \n",
      "438  Employment rate  Both Sexes   \n",
      "439  Employment rate  Both Sexes   \n",
      "\n",
      "                                             Immig    PSE  \n",
      "435        Very recent immigrants, 5 years or less  659.0  \n",
      "436        Very recent immigrants, 5 years or less  585.0  \n",
      "437        Very recent immigrants, 5 years or less  663.0  \n",
      "438        Very recent immigrants, 5 years or less  681.0  \n",
      "439        Very recent immigrants, 5 years or less  318.0  \n"
     ]
    },
    {
     "data": {
      "text/plain": [
       "<AxesSubplot:xlabel='Immig', ylabel='  PSE'>"
      ]
     },
     "execution_count": 143,
     "metadata": {},
     "output_type": "execute_result"
    },
    {
     "data": {
      "image/png": "[encoded data removed]",
      "text/plain": [
       "<Figure size 432x288 with 1 Axes>"
      ]
     },
     "metadata": {
      "needs_background": "light"
     },
     "output_type": "display_data"
    }
   ],
   "source": [
    "q3=lab[['Char','Sex','Immig','  PSE']]\n",
    "l=[\"Both Sexes\"]\n",
    "m=[\"      Very recent immigrants, 5 years or less\",\"          Recent immigrants, 5+ to 10 years\",\"          Established immigrants, 10+ years\"]\n",
    "p=['Employment rate']\n",
    "q3=q3[q3.Char.isin(p) & q3.Sex.isin(l)& q3.Immig.isin(m)]\n",
    "print(q3.head())\n",
    "sns.boxplot(x='Immig',y='  PSE',data=q3,whis=10,showmeans=True)"
   ]
  },
  {
   "cell_type": "code",
   "execution_count": 123,
   "id": "c0bce3de",
   "metadata": {},
   "outputs": [
    {
     "data": {
      "text/plain": [
       "Text(0, 0.5, 'Total Education')"
      ]
     },
     "execution_count": 123,
     "metadata": {},
     "output_type": "execute_result"
    },
    {
     "data": {
      "image/png": "[encoded data removed]",
      "text/plain": [
       "<Figure size 432x288 with 1 Axes>"
      ]
     },
     "metadata": {},
     "output_type": "display_data"
    }
   ],
   "source": [
    "lik = ['  Male','  Female']\n",
    "Q4 = lab[lab.Sex.isin(lik)]\n",
    "Q4.groupby(['Sex']).sum().plot(kind='pie', y='Total, all education levels',autopct='%1.1f%%')\n",
    "plt.title(\"Education level between male and female\")\n",
    "plt.ylabel(\"Total Education\")"
   ]
  },
  {
   "cell_type": "code",
   "execution_count": 144,
   "id": "2808ed63",
   "metadata": {},
   "outputs": [
    {
     "name": "stdout",
     "output_type": "stream",
     "text": [
      "           Bachelors degree      Post-secondary certificate or diploma\n",
      "135                   758.0                                      718.0\n",
      "136                   732.0                                      748.0\n",
      "137                   759.0                                      715.0\n",
      "138                   819.0                                      801.0\n",
      "139                   411.0                                      382.0\n"
     ]
    },
    {
     "data": {
      "text/plain": [
       "Text(0.5, 1.0, 'Bachelors degree vs post-secondary certificate/diploma wrt employability chart number 1')"
      ]
     },
     "execution_count": 144,
     "metadata": {},
     "output_type": "execute_result"
    },
    {
     "data": {
      "image/png": "[encoded data removed]",
      "text/plain": [
       "<Figure size 432x288 with 1 Axes>"
      ]
     },
     "metadata": {},
     "output_type": "display_data"
    }
   ],
   "source": [
    "q52=lab[['Char','Sex','      Bachelors degree','    Post-secondary certificate or diploma']]\n",
    "c=[\"Employment rate\"]\n",
    "d=[\"Both Sexes\"]\n",
    "q52=q52[q52.Char.isin(c) & q52.Sex.isin(d)]\n",
    "q521=q52[['      Bachelors degree','    Post-secondary certificate or diploma']]\n",
    "print(q521.head())\n",
    "q521.sum().plot(kind='pie',ylabel='Employment rate',autopct='%1.1f%%')\n",
    "plt.title(\"Bachelors degree vs post-secondary certificate/diploma wrt employability chart number 1\")"
   ]
  },
  {
   "cell_type": "code",
   "execution_count": 145,
   "id": "55a190cf",
   "metadata": {},
   "outputs": [
    {
     "name": "stdout",
     "output_type": "stream",
     "text": [
      "         University degree      Post-secondary certificate or diploma\n",
      "135                  763.0                                      718.0\n",
      "136                  720.0                                      748.0\n",
      "137                  765.0                                      715.0\n",
      "138                  827.0                                      801.0\n",
      "139                  449.0                                      382.0\n"
     ]
    },
    {
     "data": {
      "text/plain": [
       "Text(0.5, 1.0, 'University degree vs post-secondary certificate/diploma wrt employability chart number 2')"
      ]
     },
     "execution_count": 145,
     "metadata": {},
     "output_type": "execute_result"
    },
    {
     "data": {
      "image/png": "[encoded data removed]",
      "text/plain": [
       "<Figure size 432x288 with 1 Axes>"
      ]
     },
     "metadata": {},
     "output_type": "display_data"
    }
   ],
   "source": [
    "q53=lab[['Char','Sex','    University degree','    Post-secondary certificate or diploma']]\n",
    "c=[\"Employment rate\"]\n",
    "d=[\"Both Sexes\"]\n",
    "q53=q53[q53.Char.isin(c) & q53.Sex.isin(d)]\n",
    "q531=q53[['    University degree','    Post-secondary certificate or diploma']]\n",
    "print(q531.head())\n",
    "q531.sum().plot(kind='pie',ylabel='Employment rate',autopct='%1.1f%%')\n",
    "plt.title(\"University degree vs post-secondary certificate/diploma wrt employability chart number 2\")"
   ]
  },
  {
   "cell_type": "code",
   "execution_count": 146,
   "id": "2ce9b75a",
   "metadata": {},
   "outputs": [
    {
     "name": "stdout",
     "output_type": "stream",
     "text": [
      "           Bachelors degree      University degree\n",
      "135                   758.0                  763.0\n",
      "136                   732.0                  720.0\n",
      "137                   759.0                  765.0\n",
      "138                   819.0                  827.0\n",
      "139                   411.0                  449.0\n"
     ]
    },
    {
     "data": {
      "text/plain": [
       "Text(0.5, 1.0, 'Bachelors degree vs university wrt employability chart no 3')"
      ]
     },
     "execution_count": 146,
     "metadata": {},
     "output_type": "execute_result"
    },
    {
     "data": {
      "image/png": "[encoded data removed]",
      "text/plain": [
       "<Figure size 432x288 with 1 Axes>"
      ]
     },
     "metadata": {},
     "output_type": "display_data"
    }
   ],
   "source": [
    "q51=lab[['Char','Sex','      Bachelors degree','    University degree']]\n",
    "c=[\"Employment rate\"]\n",
    "d=[\"Both Sexes\"]\n",
    "q51=q51[q51.Char.isin(c) & q51.Sex.isin(d)]\n",
    "q511=q51[['      Bachelors degree','    University degree']]\n",
    "print(q511.head())\n",
    "q511.sum().plot(kind='pie',ylabel='Employment rate',autopct='%1.1f%%')\n",
    "plt.title(\"Bachelors degree vs university wrt employability chart no 3\")"
   ]
  },
  {
   "cell_type": "code",
   "execution_count": 124,
   "id": "369c5abf",
   "metadata": {},
   "outputs": [],
   "source": [
    "li4=['Employment rate','Unemployment rate']\n",
    "Q6a = lab[lab.Char.isin(li4)]\n",
    "li5=['  Male']\n",
    "Q6a = Q6a[Q6a.Sex.isin(li5)]\n",
    "Q6b = lab[lab.Char.isin(li4)]\n",
    "li6=['  Female']\n",
    "Q6b = Q6b[Q6b.Sex.isin(li6)]"
   ]
  },
  {
   "cell_type": "code",
   "execution_count": 126,
   "id": "32afba1c",
   "metadata": {},
   "outputs": [
    {
     "data": {
      "text/plain": [
       "<function matplotlib.pyplot.show(close=None, block=None)>"
      ]
     },
     "execution_count": 126,
     "metadata": {},
     "output_type": "execute_result"
    },
    {
     "data": {
      "image/png": "[encoded data removed]",
      "text/plain": [
       "<Figure size 432x288 with 1 Axes>"
      ]
     },
     "metadata": {
      "needs_background": "light"
     },
     "output_type": "display_data"
    }
   ],
   "source": [
    "p3 = plt.bar(Q6a['Char'],Q6a['Total, all education levels'])\n",
    "p4 = plt.bar(Q6b['Char'],Q6b['Total, all education levels'],alpha=0.20)\n",
    "plt.legend((p3[0],p4[0]),('Male','Female'))\n",
    "plt.title(\"Exmployment rate for Male and Female in Canada\")\n",
    "plt.xlabel(\"Employement Status\")\n",
    "plt.ylabel(\"No of people\")\n",
    "plt.show"
   ]
  },
  {
   "cell_type": "code",
   "execution_count": null,
   "id": "7a15b348",
   "metadata": {},
   "outputs": [],
   "source": []
  }
 ],
 "metadata": {
  "kernelspec": {
   "display_name": "Python 3",
   "language": "python",
   "name": "python3"
  },
  "language_info": {
   "codemirror_mode": {
    "name": "ipython",
    "version": 3
   },
   "file_extension": ".py",
   "mimetype": "text/x-python",
   "name": "python",
   "nbconvert_exporter": "python",
   "pygments_lexer": "ipython3",
   "version": "3.9.0"
  }
 },
 "nbformat": 4,
 "nbformat_minor": 5
}
